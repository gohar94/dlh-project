{
 "cells": [
  {
   "cell_type": "code",
   "execution_count": 2,
   "id": "89f62e7e",
   "metadata": {},
   "outputs": [],
   "source": [
    "import pandas as pd\n",
    "import numpy as np\n",
    "from loaders import *"
   ]
  },
  {
   "cell_type": "code",
   "execution_count": 3,
   "id": "6d2ece59",
   "metadata": {},
   "outputs": [
    {
     "name": "stdout",
     "output_type": "stream",
     "text": [
      "# ========================================\n",
      "# Please DO NOT Modify this file\n",
      "# ========================================\n",
      "mapping:\n",
      "  # mapping for the DRAM\n",
      "  - target: DRAM\n",
      "    type: temporal\n",
      "    factors: R=1 S=1 P=1 Q=1 N=2 M=32 C=32\n",
      "    permutation: RSPQCMN\n",
      "  # mapping for the local scratchpad inside the PE\n",
      "  - target: scratchpad\n",
      "    type: temporal\n",
      "    factors: R=0 S=0 P=0 Q=0 N=1 M=2 C=1 # factor of 0 => full dimension\n",
      "    permutation: QPNCMSR\n",
      "  - target: scratchpad\n",
      "    type: bypass\n",
      "    keep: [Weights]\n",
      "    bypass: [Inputs, Outputs]\n",
      "  # mapping for the input and output registers of the mac unit\n",
      "  - target: weight_reg\n",
      "    type: temporal\n",
      "    factors: R=1 S=1 P=1 Q=1 M=1 C=1 N=1\n",
      "    permutation: PQCMRSN\n",
      "  - target: weight_reg\n",
      "    type: bypass\n",
      "    keep: [Weights]\n",
      "    bypass: [Inputs, Outputs]\n",
      "  - target: input_activation_reg\n",
      "    type: temporal\n",
      "    factors: R=1 S=1 P=1 Q=1 M=1 C=1 N=1\n",
      "    permutation: PQCMRSN\n",
      "  - target: input_activation_reg\n",
      "    type: bypass\n",
      "    keep: [Inputs]\n",
      "    bypass: [Weights, Outputs]\n",
      "  - target: output_activation_reg\n",
      "    type: temporal\n",
      "    factors: R=1 S=1 P=1 Q=1 M=1 C=1 N=1\n",
      "    permutation: PQCMRSN\n",
      "  - target: output_activation_reg\n",
      "    type: bypass\n",
      "    keep: [Outputs]\n",
      "    bypass: [Weights, Inputs]\n",
      "\n"
     ]
    }
   ],
   "source": [
    "show_config(ConfigRegistry.SINGLE_PE_MAP)"
   ]
  },
  {
   "cell_type": "code",
   "execution_count": 4,
   "id": "d9653d02",
   "metadata": {},
   "outputs": [
    {
     "name": "stdout",
     "output_type": "stream",
     "text": [
      "/home/workspace/final-project/example_designs/simple_pim/PIM_estimation_tables is already added as a root for table based plug-in\r\n"
     ]
    }
   ],
   "source": [
    "!accelergyTables -r /home/workspace/final-project/example_designs/simple_pim/PIM_estimation_tables\n",
    "\n",
    "pim_accelergy_result = run_accelergy(\n",
    "    ConfigRegistry.PIM_ARCH,\n",
    "    ConfigRegistry.PIM_COMPONENTS_DIR\n",
    ")"
   ]
  },
  {
   "cell_type": "code",
   "execution_count": 5,
   "id": "f32dd9c7",
   "metadata": {},
   "outputs": [
    {
     "name": "stdout",
     "output_type": "stream",
     "text": [
      "input file: tmp.yaml\n",
      "Warning: neither block size nor cluster size specified, set according to specified storage width: block size: 1  cluster-size: 1\n",
      "Warning: neither block size nor cluster size specified, set according to specified storage width: block size: 1  cluster-size: 1\n",
      "execute:/usr/local/bin/accelergy tmp.yaml --oprefix timeloop-model. -o ./ > timeloop-model.accelergy.log 2>&1\n",
      "Failed to run Accelergy. Did you install Accelergy or specify ACCELERGYPATH correctly? Or check accelergy.log to see what went wrong\n",
      "[ERROR] 2023-04-23 02:52:45,534 - pytimeloop.app.model - Could not find timeloop-model.stats.txt\n",
      "[ERROR] 2023-04-23 02:52:45,536 - pytimeloop.app.model - Could not find timeloop-model.map.txt\n"
     ]
    }
   ],
   "source": [
    "pim_results_stats, pim_results_loops = run_timeloop_model(\n",
    "    ConfigRegistry.PIM_ARCH,\n",
    "    ConfigRegistry.PIM_COMPONENTS_DIR,\n",
    "    ConfigRegistry.DUMB_MAPPING,\n",
    "    ConfigRegistry.EXAMPLE_LAYER\n",
    ")"
   ]
  },
  {
   "cell_type": "code",
   "execution_count": null,
   "id": "a65c25e0",
   "metadata": {},
   "outputs": [],
   "source": [
    "print(pim_results_loops)"
   ]
  },
  {
   "cell_type": "code",
   "execution_count": null,
   "id": "58950b52",
   "metadata": {},
   "outputs": [],
   "source": [
    "print(pim_results_stats)"
   ]
  },
  {
   "cell_type": "code",
   "execution_count": 6,
   "id": "0f1dea3d",
   "metadata": {},
   "outputs": [
    {
     "ename": "NameError",
     "evalue": "name 'sys_1x16_mapping' is not defined",
     "output_type": "error",
     "traceback": [
      "\u001b[0;31m---------------------------------------------------------------------------\u001b[0m",
      "\u001b[0;31mNameError\u001b[0m                                 Traceback (most recent call last)",
      "Cell \u001b[0;32mIn[6], line 3\u001b[0m\n\u001b[1;32m      1\u001b[0m sys_1x16_stats, sys_1x16_loops \u001b[38;5;241m=\u001b[39m run_timeloop_model(\n\u001b[1;32m      2\u001b[0m     ConfigRegistry\u001b[38;5;241m.\u001b[39mSYSTEM_1x16_ARCH, ConfigRegistry\u001b[38;5;241m.\u001b[39mSYSTEM_COMPONENTS_DIR,\n\u001b[0;32m----> 3\u001b[0m     \u001b[43msys_1x16_mapping\u001b[49m,\n\u001b[1;32m      4\u001b[0m     ConfigRegistry\u001b[38;5;241m.\u001b[39mTINY_LAYER_PROB\n\u001b[1;32m      5\u001b[0m )\n\u001b[1;32m      6\u001b[0m \u001b[38;5;28mprint\u001b[39m(sys_1x16_stats)\n",
      "\u001b[0;31mNameError\u001b[0m: name 'sys_1x16_mapping' is not defined"
     ]
    }
   ],
   "source": [
    "sys_1x16_stats, sys_1x16_loops = run_timeloop_model(\n",
    "    ConfigRegistry.SYSTEM_1x16_ARCH, ConfigRegistry.SYSTEM_COMPONENTS_DIR,\n",
    "    sys_1x16_mapping,\n",
    "    ConfigRegistry.TINY_LAYER_PROB\n",
    ")\n",
    "print(sys_1x16_stats)"
   ]
  },
  {
   "cell_type": "code",
   "execution_count": null,
   "id": "875aaaea",
   "metadata": {},
   "outputs": [],
   "source": []
  }
 ],
 "metadata": {
  "kernelspec": {
   "display_name": "Python 3 (ipykernel)",
   "language": "python",
   "name": "python3"
  },
  "language_info": {
   "codemirror_mode": {
    "name": "ipython",
    "version": 3
   },
   "file_extension": ".py",
   "mimetype": "text/x-python",
   "name": "python",
   "nbconvert_exporter": "python",
   "pygments_lexer": "ipython3",
   "version": "3.8.10"
  }
 },
 "nbformat": 4,
 "nbformat_minor": 5
}
