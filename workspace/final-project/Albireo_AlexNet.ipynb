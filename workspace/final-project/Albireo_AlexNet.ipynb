{
 "cells": [
  {
   "cell_type": "code",
   "execution_count": 1,
   "id": "a743894e",
   "metadata": {},
   "outputs": [],
   "source": [
    "import pandas as pd\n",
    "import numpy as np\n",
    "from loaders import *"
   ]
  },
  {
   "cell_type": "code",
   "execution_count": 2,
   "id": "7e25c29e",
   "metadata": {},
   "outputs": [],
   "source": [
    "alexnet_layers = [\n",
    "    ConfigRegistry.ALEXNET_LAYER1,\n",
    "    ConfigRegistry.ALEXNET_LAYER2,\n",
    "    ConfigRegistry.ALEXNET_LAYER3,\n",
    "    ConfigRegistry.ALEXNET_LAYER4,\n",
    "    ConfigRegistry.ALEXNET_LAYER5,\n",
    "]"
   ]
  },
  {
   "cell_type": "code",
   "execution_count": 3,
   "id": "b6cfdfd9",
   "metadata": {},
   "outputs": [
    {
     "name": "stdout",
     "output_type": "stream",
     "text": [
      "/home/workspace/final-project/example_designs/albireo/albireo_estimation_tables is already added as a root for table based plug-in\n",
      "[ERROR] 2023-05-01 23:34:41,356 - pytimeloop.accelergy_interface - Could not find ERT\n",
      "[WARNING] 2023-05-01 23:34:41,357 - pytimeloop.accelergy_interface - Could not find ERT_verbose\n",
      "[ERROR] 2023-05-01 23:34:41,358 - pytimeloop.accelergy_interface - Could not find ART\n",
      "[WARNING] 2023-05-01 23:34:41,359 - pytimeloop.accelergy_interface - Could not find ART_verbose\n",
      "\n"
     ]
    }
   ],
   "source": [
    "!accelergyTables -r /home/workspace/final-project/example_designs/albireo/albireo_estimation_tables\n",
    "\n",
    "albireo_accelergy_result = run_accelergy(\n",
    "    ConfigRegistry.ALBIREO_ARCH,\n",
    "    ConfigRegistry.ALBIREO_COMPONENTS_DIR\n",
    ")\n",
    "print(albireo_accelergy_result.ert_verbose)"
   ]
  },
  {
   "cell_type": "code",
   "execution_count": 4,
   "id": "4b71e441",
   "metadata": {},
   "outputs": [
    {
     "name": "stdout",
     "output_type": "stream",
     "text": [
      "example_designs/albireo/arch/system_albireo.yaml example_designs/albireo/arch/components\n"
     ]
    }
   ],
   "source": [
    "print(ConfigRegistry.ALBIREO_ARCH, ConfigRegistry.ALBIREO_COMPONENTS_DIR)"
   ]
  },
  {
   "cell_type": "code",
   "execution_count": null,
   "id": "653e9810",
   "metadata": {},
   "outputs": [],
   "source": [
    "!mkdir foobar"
   ]
  },
  {
   "cell_type": "code",
   "execution_count": null,
   "id": "f66b76ec",
   "metadata": {},
   "outputs": [],
   "source": []
  }
 ],
 "metadata": {
  "kernelspec": {
   "display_name": "Python 3 (ipykernel)",
   "language": "python",
   "name": "python3"
  },
  "language_info": {
   "codemirror_mode": {
    "name": "ipython",
    "version": 3
   },
   "file_extension": ".py",
   "mimetype": "text/x-python",
   "name": "python",
   "nbconvert_exporter": "python",
   "pygments_lexer": "ipython3",
   "version": "3.8.10"
  }
 },
 "nbformat": 4,
 "nbformat_minor": 5
}
